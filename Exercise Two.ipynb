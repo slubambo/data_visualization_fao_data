{
 "cells": [
  {
   "cell_type": "code",
   "execution_count": 7,
   "metadata": {},
   "outputs": [],
   "source": [
    "# Assignment 2 of 4"
   ]
  },
  {
   "cell_type": "markdown",
   "metadata": {},
   "source": [
    "# LUBAMBO Simon B00145 J23MD10/223"
   ]
  },
  {
   "cell_type": "markdown",
   "metadata": {},
   "source": [
    "# Exercise 2\n",
    "\n",
    "RUBRICS\n",
    "- Correct values and approach.\n",
    "- Number of additional data wrangling techniques demonstrated.\n",
    "- Any added comment on the exercise.\n",
    "- Provide a single Jupyter Notebook file for your solution.\n"
   ]
  },
  {
   "cell_type": "markdown",
   "metadata": {},
   "source": [
    "# Step 1: Combing 5 fao datasets into one"
   ]
  },
  {
   "cell_type": "code",
   "execution_count": 8,
   "metadata": {},
   "outputs": [
    {
     "name": "stderr",
     "output_type": "stream",
     "text": [
      "C:\\Users\\user\\AppData\\Local\\Temp\\ipykernel_9576\\88276154.py:5: DtypeWarning: Columns (12) have mixed types. Specify dtype option on import or set low_memory=False.\n",
      "  df1 = pd.read_csv('Environment_Cropland_nutrient_budget.csv', encoding='ISO-8859-1')\n"
     ]
    },
    {
     "name": "stdout",
     "output_type": "stream",
     "text": [
      "   Area Code Area Code (M49)         Area  Item Code                   Item  \\\n",
      "0          2            '004  Afghanistan       5061  Synthetic Fertilizers   \n",
      "1          2            '004  Afghanistan       5061  Synthetic Fertilizers   \n",
      "2          2            '004  Afghanistan       5061  Synthetic Fertilizers   \n",
      "3          2            '004  Afghanistan       5061  Synthetic Fertilizers   \n",
      "4          2            '004  Afghanistan       5061  Synthetic Fertilizers   \n",
      "\n",
      "   Element Code            Element  Year Code  Year Unit  \n",
      "0          7275  Cropland nitrogen       1961  1961    t  \n",
      "1          7275  Cropland nitrogen       1962  1962    t  \n",
      "2          7275  Cropland nitrogen       1963  1963    t  \n",
      "3          7275  Cropland nitrogen       1964  1964    t  \n",
      "4          7275  Cropland nitrogen       1965  1965    t  \n",
      "   Area Code Area Code (M49)         Area  Item Code  \\\n",
      "0          2            '004  Afghanistan       6970   \n",
      "1          2            '004  Afghanistan       6970   \n",
      "2          2            '004  Afghanistan       6970   \n",
      "3          2            '004  Afghanistan       6970   \n",
      "4          2            '004  Afghanistan       6970   \n",
      "\n",
      "                                                Item  Element Code  \\\n",
      "0  Artificial surfaces (including urban and assoc...          5006   \n",
      "1  Artificial surfaces (including urban and assoc...          5006   \n",
      "2  Artificial surfaces (including urban and assoc...          5006   \n",
      "3  Artificial surfaces (including urban and assoc...          5006   \n",
      "4  Artificial surfaces (including urban and assoc...          5006   \n",
      "\n",
      "          Element  Year Code  Year     Unit  \n",
      "0  Area from CGLS       2015  2015  1000 ha  \n",
      "1  Area from CGLS       2016  2016  1000 ha  \n",
      "2  Area from CGLS       2017  2017  1000 ha  \n",
      "3  Area from CGLS       2018  2018  1000 ha  \n",
      "4  Area from CGLS       2019  2019  1000 ha  \n",
      "   Area Code Area Code (M49)         Area  Item Code Item Code (CPC)   Item  \\\n",
      "0          2            '004  Afghanistan       1107          '02132  Asses   \n",
      "1          2            '004  Afghanistan       1107          '02132  Asses   \n",
      "2          2            '004  Afghanistan       1107          '02132  Asses   \n",
      "3          2            '004  Afghanistan       1107          '02132  Asses   \n",
      "4          2            '004  Afghanistan       1107          '02132  Asses   \n",
      "\n",
      "   Element Code                                     Element  Year Code  Year  \n",
      "0          7213  Livestock units per agricultural land area       1961  1961  \n",
      "1          7213  Livestock units per agricultural land area       1962  1962  \n",
      "2          7213  Livestock units per agricultural land area       1963  1963  \n",
      "3          7213  Livestock units per agricultural land area       1964  1964  \n",
      "4          7213  Livestock units per agricultural land area       1965  1965  \n",
      "   Area Code Area Code (M49)         Area  Months Code   Months  Element Code  \\\n",
      "0          2            '004  Afghanistan         7001  January          7271   \n",
      "1          2            '004  Afghanistan         7001  January          7271   \n",
      "2          2            '004  Afghanistan         7001  January          7271   \n",
      "3          2            '004  Afghanistan         7001  January          7271   \n",
      "4          2            '004  Afghanistan         7001  January          7271   \n",
      "\n",
      "              Element  Year Code  Year Unit  \n",
      "0  Temperature change       1961  1961   °c  \n",
      "1  Temperature change       1962  1962   °c  \n",
      "2  Temperature change       1963  1963   °c  \n",
      "3  Temperature change       1964  1964   °c  \n",
      "4  Temperature change       1965  1965   °c  \n",
      "   Area Code Area Code (M49)         Area  Item Code          Item  \\\n",
      "0          2            '004  Afghanistan       6600  Country area   \n",
      "1          2            '004  Afghanistan       6600  Country area   \n",
      "2          2            '004  Afghanistan       6600  Country area   \n",
      "3          2            '004  Afghanistan       6600  Country area   \n",
      "4          2            '004  Afghanistan       6600  Country area   \n",
      "\n",
      "   Element Code Element  Year Code  Year     Unit  \n",
      "0          5110    Area       1961  1961  1000 ha  \n",
      "1          5110    Area       1962  1962  1000 ha  \n",
      "2          5110    Area       1963  1963  1000 ha  \n",
      "3          5110    Area       1964  1964  1000 ha  \n",
      "4          5110    Area       1965  1965  1000 ha  \n"
     ]
    }
   ],
   "source": [
    "import numpy as np\n",
    "import pandas as pd\n",
    "\n",
    "# importing datasets from the FAO website\n",
    "df1 = pd.read_csv('Environment_Cropland_nutrient_budget.csv', encoding='ISO-8859-1')\n",
    "print(df1.iloc[:, :10].head())\n",
    "df2 = pd.read_csv('Environment_LandCover.csv', encoding='ISO-8859-1')\n",
    "print(df2.iloc[:, :10].head())\n",
    "df3 = pd.read_csv('Environment_LivestockPatterns.csv', encoding='ISO-8859-1')\n",
    "print(df3.iloc[:, :10].head())\n",
    "df4 = pd.read_csv('Environment_Temperature_change.csv', encoding='ISO-8859-1')\n",
    "print(df4.iloc[:, :10].head())\n",
    "df5 = pd.read_csv('Inputs_LandUse_E_All_Data.csv', encoding='ISO-8859-1')\n",
    "print(df5.iloc[:, :10].head())"
   ]
  },
  {
   "cell_type": "code",
   "execution_count": 9,
   "metadata": {},
   "outputs": [],
   "source": [
    "# The common columns are 'Area Code', 'Area Code (M49)', and 'Area'\n",
    "common_columns = ['Area Code', 'Area Code (M49)', 'Area']\n",
    "\n",
    "# Merge datasets\n",
    "fao = pd.merge(df1, df2, on=common_columns, how='outer')\n",
    "fao = pd.merge(fao, df3, on=common_columns, how='outer')\n",
    "fao = pd.merge(fao, df4, on=common_columns, how='outer')\n",
    "fao = pd.merge(fao, df5, on=common_columns, how='outer')\n",
    "\n",
    "# Display the combined dataset\n",
    "print(fao.head())"
   ]
  }
 ],
 "metadata": {
  "kernelspec": {
   "display_name": "Python 3",
   "language": "python",
   "name": "python3"
  },
  "language_info": {
   "codemirror_mode": {
    "name": "ipython",
    "version": 3
   },
   "file_extension": ".py",
   "mimetype": "text/x-python",
   "name": "python",
   "nbconvert_exporter": "python",
   "pygments_lexer": "ipython3",
   "version": "3.10.2"
  }
 },
 "nbformat": 4,
 "nbformat_minor": 2
}
