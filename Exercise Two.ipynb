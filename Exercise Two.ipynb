{
 "cells": [
  {
   "cell_type": "code",
   "execution_count": 3,
   "metadata": {},
   "outputs": [],
   "source": [
    "# Assignment 2 of 4"
   ]
  },
  {
   "cell_type": "markdown",
   "metadata": {},
   "source": [
    "# LUBAMBO Simon B00145 J23MD10/223"
   ]
  },
  {
   "cell_type": "markdown",
   "metadata": {},
   "source": [
    "# Exercise 2\n",
    "\n",
    "RUBRICS\n",
    "- Correct values and approach.\n",
    "- Number of additional data wrangling techniques demonstrated.\n",
    "- Any added comment on the exercise.\n",
    "- Provide a single Jupyter Notebook file for your solution.\n"
   ]
  },
  {
   "cell_type": "markdown",
   "metadata": {},
   "source": [
    "# Step 1: Combing 5 fao datasets into one"
   ]
  },
  {
   "cell_type": "code",
   "execution_count": 4,
   "metadata": {},
   "outputs": [
    {
     "name": "stderr",
     "output_type": "stream",
     "text": [
      "C:\\Users\\user\\AppData\\Local\\Temp\\ipykernel_9576\\3180314096.py:5: DtypeWarning: Columns (12) have mixed types. Specify dtype option on import or set low_memory=False.\n",
      "  df1 = pd.read_csv('Environment_Cropland_nutrient_budget.csv', encoding='ISO-8859-1')\n"
     ]
    }
   ],
   "source": [
    "import numpy as np\n",
    "import pandas as pd\n",
    "\n",
    "# importing datasets from the FAO website\n",
    "df1 = pd.read_csv('Environment_Cropland_nutrient_budget.csv', encoding='ISO-8859-1')\n",
    "df2 = pd.read_csv('Environment_LandCover.csv', encoding='ISO-8859-1')\n",
    "df3 = pd.read_csv('Environment_LivestockPatterns.csv', encoding='ISO-8859-1')\n",
    "df4 = pd.read_csv('Environment_Temperature_change.csv', encoding='ISO-8859-1')\n",
    "df5 = pd.read_csv('Inputs_LandUse_E_All_Data.csv', encoding='ISO-8859-1')"
   ]
  }
 ],
 "metadata": {
  "kernelspec": {
   "display_name": "Python 3",
   "language": "python",
   "name": "python3"
  },
  "language_info": {
   "codemirror_mode": {
    "name": "ipython",
    "version": 3
   },
   "file_extension": ".py",
   "mimetype": "text/x-python",
   "name": "python",
   "nbconvert_exporter": "python",
   "pygments_lexer": "ipython3",
   "version": "3.10.2"
  }
 },
 "nbformat": 4,
 "nbformat_minor": 2
}
