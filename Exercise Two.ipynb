{
 "cells": [
  {
   "cell_type": "code",
   "execution_count": 19,
   "metadata": {},
   "outputs": [],
   "source": [
    "# Assignment 2 of 4"
   ]
  },
  {
   "cell_type": "markdown",
   "metadata": {},
   "source": [
    "# LUBAMBO Simon B00145 J23MD10/223"
   ]
  },
  {
   "cell_type": "markdown",
   "metadata": {},
   "source": [
    "# Exercise 2\n",
    "\n",
    "RUBRICS\n",
    "- Correct values and approach.\n",
    "- Number of additional data wrangling techniques demonstrated.\n",
    "- Any added comment on the exercise.\n",
    "- Provide a single Jupyter Notebook file for your solution.\n"
   ]
  },
  {
   "cell_type": "markdown",
   "metadata": {},
   "source": [
    "# Step 1: Combing 5 fao datasets into one"
   ]
  },
  {
   "cell_type": "code",
   "execution_count": 20,
   "metadata": {},
   "outputs": [
    {
     "name": "stderr",
     "output_type": "stream",
     "text": [
      "C:\\Users\\user\\AppData\\Local\\Temp\\ipykernel_17592\\1770150092.py:6: DtypeWarning: Columns (12) have mixed types. Specify dtype option on import or set low_memory=False.\n",
      "  df1 = pd.read_csv('Environment_Cropland_nutrient_budget.csv', encoding='ISO-8859-1')\n"
     ]
    }
   ],
   "source": [
    "import numpy as np\n",
    "import pandas as pd\n",
    "import dask.dataframe as dd\n",
    "\n",
    "# importing datasets from the FAO website\n",
    "df1 = pd.read_csv('Environment_Cropland_nutrient_budget.csv', encoding='ISO-8859-1')\n",
    "df2 = pd.read_csv('Environment_LandCover.csv', encoding='ISO-8859-1')\n",
    "df3 = pd.read_csv('Environment_LivestockPatterns.csv', encoding='ISO-8859-1')\n",
    "df4 = pd.read_csv('Environment_Temperature_change.csv', encoding='ISO-8859-1')\n",
    "df5 = pd.read_csv('Inputs_LandUse_E_All_Data.csv', encoding='ISO-8859-1')"
   ]
  },
  {
   "cell_type": "markdown",
   "metadata": {},
   "source": [
    "# Adding Extra Columns on the Datasets "
   ]
  },
  {
   "cell_type": "code",
   "execution_count": 21,
   "metadata": {},
   "outputs": [
    {
     "data": {
      "text/html": [
       "<div>\n",
       "<style scoped>\n",
       "    .dataframe tbody tr th:only-of-type {\n",
       "        vertical-align: middle;\n",
       "    }\n",
       "\n",
       "    .dataframe tbody tr th {\n",
       "        vertical-align: top;\n",
       "    }\n",
       "\n",
       "    .dataframe thead th {\n",
       "        text-align: right;\n",
       "    }\n",
       "</style>\n",
       "<table border=\"1\" class=\"dataframe\">\n",
       "  <thead>\n",
       "    <tr style=\"text-align: right;\">\n",
       "      <th></th>\n",
       "      <th>Area Code</th>\n",
       "      <th>Area Code (M49)</th>\n",
       "      <th>Area</th>\n",
       "      <th>Item Code</th>\n",
       "      <th>Item</th>\n",
       "      <th>Element Code</th>\n",
       "      <th>Element</th>\n",
       "      <th>Year Code</th>\n",
       "      <th>Year</th>\n",
       "      <th>Unit</th>\n",
       "      <th>Value</th>\n",
       "      <th>Flag</th>\n",
       "      <th>Note</th>\n",
       "      <th>newColumn</th>\n",
       "    </tr>\n",
       "  </thead>\n",
       "  <tbody>\n",
       "    <tr>\n",
       "      <th>0</th>\n",
       "      <td>2</td>\n",
       "      <td>'004</td>\n",
       "      <td>Afghanistan</td>\n",
       "      <td>5061</td>\n",
       "      <td>Synthetic Fertilizers</td>\n",
       "      <td>7275</td>\n",
       "      <td>Cropland nitrogen</td>\n",
       "      <td>1961</td>\n",
       "      <td>1961</td>\n",
       "      <td>t</td>\n",
       "      <td>500.0</td>\n",
       "      <td>E</td>\n",
       "      <td>NaN</td>\n",
       "      <td>36818775</td>\n",
       "    </tr>\n",
       "    <tr>\n",
       "      <th>1</th>\n",
       "      <td>2</td>\n",
       "      <td>'004</td>\n",
       "      <td>Afghanistan</td>\n",
       "      <td>5061</td>\n",
       "      <td>Synthetic Fertilizers</td>\n",
       "      <td>7275</td>\n",
       "      <td>Cropland nitrogen</td>\n",
       "      <td>1962</td>\n",
       "      <td>1962</td>\n",
       "      <td>t</td>\n",
       "      <td>500.0</td>\n",
       "      <td>E</td>\n",
       "      <td>NaN</td>\n",
       "      <td>36818775</td>\n",
       "    </tr>\n",
       "    <tr>\n",
       "      <th>2</th>\n",
       "      <td>2</td>\n",
       "      <td>'004</td>\n",
       "      <td>Afghanistan</td>\n",
       "      <td>5061</td>\n",
       "      <td>Synthetic Fertilizers</td>\n",
       "      <td>7275</td>\n",
       "      <td>Cropland nitrogen</td>\n",
       "      <td>1963</td>\n",
       "      <td>1963</td>\n",
       "      <td>t</td>\n",
       "      <td>500.0</td>\n",
       "      <td>E</td>\n",
       "      <td>NaN</td>\n",
       "      <td>36818775</td>\n",
       "    </tr>\n",
       "    <tr>\n",
       "      <th>3</th>\n",
       "      <td>2</td>\n",
       "      <td>'004</td>\n",
       "      <td>Afghanistan</td>\n",
       "      <td>5061</td>\n",
       "      <td>Synthetic Fertilizers</td>\n",
       "      <td>7275</td>\n",
       "      <td>Cropland nitrogen</td>\n",
       "      <td>1964</td>\n",
       "      <td>1964</td>\n",
       "      <td>t</td>\n",
       "      <td>550.0</td>\n",
       "      <td>E</td>\n",
       "      <td>NaN</td>\n",
       "      <td>36818775</td>\n",
       "    </tr>\n",
       "    <tr>\n",
       "      <th>4</th>\n",
       "      <td>2</td>\n",
       "      <td>'004</td>\n",
       "      <td>Afghanistan</td>\n",
       "      <td>5061</td>\n",
       "      <td>Synthetic Fertilizers</td>\n",
       "      <td>7275</td>\n",
       "      <td>Cropland nitrogen</td>\n",
       "      <td>1965</td>\n",
       "      <td>1965</td>\n",
       "      <td>t</td>\n",
       "      <td>550.0</td>\n",
       "      <td>E</td>\n",
       "      <td>NaN</td>\n",
       "      <td>36818775</td>\n",
       "    </tr>\n",
       "  </tbody>\n",
       "</table>\n",
       "</div>"
      ],
      "text/plain": [
       "   Area Code Area Code (M49)         Area  Item Code                   Item  \\\n",
       "0          2            '004  Afghanistan       5061  Synthetic Fertilizers   \n",
       "1          2            '004  Afghanistan       5061  Synthetic Fertilizers   \n",
       "2          2            '004  Afghanistan       5061  Synthetic Fertilizers   \n",
       "3          2            '004  Afghanistan       5061  Synthetic Fertilizers   \n",
       "4          2            '004  Afghanistan       5061  Synthetic Fertilizers   \n",
       "\n",
       "   Element Code            Element  Year Code  Year Unit  Value Flag Note  \\\n",
       "0          7275  Cropland nitrogen       1961  1961    t  500.0    E  NaN   \n",
       "1          7275  Cropland nitrogen       1962  1962    t  500.0    E  NaN   \n",
       "2          7275  Cropland nitrogen       1963  1963    t  500.0    E  NaN   \n",
       "3          7275  Cropland nitrogen       1964  1964    t  550.0    E  NaN   \n",
       "4          7275  Cropland nitrogen       1965  1965    t  550.0    E  NaN   \n",
       "\n",
       "   newColumn  \n",
       "0   36818775  \n",
       "1   36818775  \n",
       "2   36818775  \n",
       "3   36818775  \n",
       "4   36818775  "
      ]
     },
     "execution_count": 21,
     "metadata": {},
     "output_type": "execute_result"
    }
   ],
   "source": [
    "# Define a custom function for the derivation\n",
    "def calculate_new_column(row):\n",
    "    # Example: Derive the new column as the product of 'Item Code' and 'Element Code'\n",
    "    return row['Item Code'] * row['Element Code']\n",
    "\n",
    "# Apply the custom function to create the new column\n",
    "df1['newColumn'] = df1.apply(calculate_new_column, axis=1)\n",
    "\n",
    "df1.head()"
   ]
  },
  {
   "cell_type": "markdown",
   "metadata": {},
   "source": [
    "# Dealing with Memory Issues, filtering out countries in East Africa"
   ]
  },
  {
   "cell_type": "code",
   "execution_count": 22,
   "metadata": {},
   "outputs": [],
   "source": [
    "# Define the list of countries to retain\n",
    "countries_to_retain = ['Uganda', 'Kenya', 'Tanzania']\n",
    "\n",
    "# Filter for the specified countries\n",
    "filtered_df1 = df1[df1['Area'].isin(countries_to_retain)]\n",
    "filtered_df2 = df2[df2['Area'].isin(countries_to_retain)]\n",
    "filtered_df3 = df3[df3['Area'].isin(countries_to_retain)]\n",
    "filtered_df4 = df4[df4['Area'].isin(countries_to_retain)]\n",
    "filtered_df5 = df5[df5['Area'].isin(countries_to_retain)]\n"
   ]
  },
  {
   "cell_type": "code",
   "execution_count": 23,
   "metadata": {},
   "outputs": [
    {
     "name": "stdout",
     "output_type": "stream",
     "text": [
      "   Area Code Area Code (M49)   Area  Item Code_x                 Item_x  \\\n",
      "0        114            '404  Kenya         5061  Synthetic Fertilizers   \n",
      "1        114            '404  Kenya         5061  Synthetic Fertilizers   \n",
      "2        114            '404  Kenya         5061  Synthetic Fertilizers   \n",
      "3        114            '404  Kenya         5061  Synthetic Fertilizers   \n",
      "4        114            '404  Kenya         5061  Synthetic Fertilizers   \n",
      "\n",
      "   Element Code_x          Element_x  Year Code_x  Year_x Unit_x  ...  \\\n",
      "0            7275  Cropland nitrogen         1961    1961      t  ...   \n",
      "1            7275  Cropland nitrogen         1961    1961      t  ...   \n",
      "2            7275  Cropland nitrogen         1961    1961      t  ...   \n",
      "3            7275  Cropland nitrogen         1961    1961      t  ...   \n",
      "4            7275  Cropland nitrogen         1961    1961      t  ...   \n",
      "\n",
      "   newColumn Item Code_y                                             Item_y  \\\n",
      "0   36818775        6970  Artificial surfaces (including urban and assoc...   \n",
      "1   36818775        6970  Artificial surfaces (including urban and assoc...   \n",
      "2   36818775        6970  Artificial surfaces (including urban and assoc...   \n",
      "3   36818775        6970  Artificial surfaces (including urban and assoc...   \n",
      "4   36818775        6970  Artificial surfaces (including urban and assoc...   \n",
      "\n",
      "   Element Code_y       Element_y Year Code_y  Year_y   Unit_y  Value_y  \\\n",
      "0            5006  Area from CGLS        2015    2015  1000 ha   187.36   \n",
      "1            5006  Area from CGLS        2016    2016  1000 ha   187.76   \n",
      "2            5006  Area from CGLS        2017    2017  1000 ha   188.40   \n",
      "3            5006  Area from CGLS        2018    2018  1000 ha   188.93   \n",
      "4            5006  Area from CGLS        2019    2019  1000 ha   190.67   \n",
      "\n",
      "   Flag_y  \n",
      "0       E  \n",
      "1       E  \n",
      "2       E  \n",
      "3       E  \n",
      "4       E  \n",
      "\n",
      "[5 rows x 23 columns]\n"
     ]
    }
   ],
   "source": [
    "# # The common columns are 'Area Code', 'Area Code (M49)', and 'Area'\n",
    "common_columns = ['Area Code', 'Area Code (M49)', 'Area']\n",
    "\n",
    "# # Merge datasets\n",
    "fao = pd.merge(filtered_df1, filtered_df2, on=common_columns, how='outer')\n",
    "# fao = pd.merge(fao, filtered_df3, on=common_columns, how='outer')\n",
    "# fao = pd.merge(fao, filtered_df4, on=common_columns, how='outer')\n",
    "# fao = pd.merge(fao, filtered_df5, on=common_columns, how='outer')\n",
    "\n",
    "# Display the result\n",
    "print(fao.head())\n",
    "\n",
    "\n"
   ]
  },
  {
   "cell_type": "code",
   "execution_count": null,
   "metadata": {},
   "outputs": [],
   "source": []
  }
 ],
 "metadata": {
  "kernelspec": {
   "display_name": "Python 3",
   "language": "python",
   "name": "python3"
  },
  "language_info": {
   "codemirror_mode": {
    "name": "ipython",
    "version": 3
   },
   "file_extension": ".py",
   "mimetype": "text/x-python",
   "name": "python",
   "nbconvert_exporter": "python",
   "pygments_lexer": "ipython3",
   "version": "3.10.2"
  }
 },
 "nbformat": 4,
 "nbformat_minor": 2
}
